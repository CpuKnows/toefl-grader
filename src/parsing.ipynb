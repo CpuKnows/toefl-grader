{
 "cells": [
  {
   "cell_type": "code",
   "execution_count": 1,
   "metadata": {},
   "outputs": [],
   "source": [
    "import re\n",
    "import pandas as pd\n",
    "import nltk\n",
    "\n",
    "from nltk.tree import Tree\n",
    "# This uses corenlp server! Will need to alter code if using JAR files directly\n",
    "# https://stanfordnlp.github.io/CoreNLP/corenlp-server.html\n",
    "from nltk.parse.corenlp import CoreNLPParser\n",
    "from nltk.tag.stanford import CoreNLPTagger, CoreNLPPOSTagger, CoreNLPNERTagger"
   ]
  },
  {
   "cell_type": "code",
   "execution_count": 2,
   "metadata": {},
   "outputs": [],
   "source": [
    "# Careful! CoreNLPTagger, CoreNLPPOSTagger, and CoreNLPNERTagger will all be replaced in the next NLTK version (3.2.6)\n",
    "parser = CoreNLPParser(url='http://localhost:9000')\n",
    "#pos_tagger = CoreNLPPOSTagger(url='http://localhost:9000')\n",
    "#ner_tagger = CoreNLPNERTagger(url='http://localhost:9000')\n",
    "pos_tagger = CoreNLPTagger(tagtype='pos', url='http://localhost:9000')\n",
    "ner_tagger = CoreNLPTagger(tagtype='ner', url='http://localhost:9000')"
   ]
  },
  {
   "cell_type": "code",
   "execution_count": 3,
   "metadata": {},
   "outputs": [],
   "source": [
    "# Get essays\n",
    "essay_key = pd.read_csv('../data/essays_dataset/index.csv', sep=';')\n",
    "\n",
    "essays = []\n",
    "for filename in essay_key['filename']:\n",
    "    with open('../data/essays_dataset/essays/'+filename, 'r') as f:\n",
    "        essays.append(f.read().strip())\n",
    "        \n",
    "essay_key['essay'] = essays"
   ]
  },
  {
   "cell_type": "code",
   "execution_count": 4,
   "metadata": {},
   "outputs": [],
   "source": [
    "# Altered behavior of NLTK so CoreNLP performs sentence splits\n",
    "def constituency_parse(parser, sentences):\n",
    "    \"\"\"Return a list of parse strings for each sentence.  \n",
    "    Each parse string can be fed into Tree.fromstring() to create NLTK Tree objects.\"\"\"\n",
    "    default_properties = {'outputFormat': 'json', 'annotators': 'tokenize,pos,lemma,ssplit,parse'}\n",
    "    parsed_data = parser.api_call(sentences, properties=default_properties)\n",
    "    \n",
    "    parses = list()\n",
    "    for parsed_sent in parsed_data['sentences']:\n",
    "        parse = parsed_sent['parse']\n",
    "        # Compress whitespace\n",
    "        parse = re.sub('[\\s]+', ' ', parse)\n",
    "        parses.append(parse)\n",
    "    return parses\n",
    "        \n",
    "def pos_tags(tagger, sentences):\n",
    "    \"\"\"List of sentences with a list of (word, tag) tuples\"\"\"\n",
    "    default_properties = {'annotators': 'tokenize,ssplit,pos'}\n",
    "    tagged_data = tagger.api_call(sentences, properties=default_properties)\n",
    "    \n",
    "    tags = list()\n",
    "    for sent in tagged_data['sentences']:\n",
    "        tags.append([(token['word'], token['pos']) for token in sent['tokens']])\n",
    "    return tags"
   ]
  },
  {
   "cell_type": "code",
   "execution_count": 5,
   "metadata": {},
   "outputs": [
    {
     "name": "stdout",
     "output_type": "stream",
     "text": [
      "This is an important aspect of today time.\n",
      "This products rathen are not much better, but today is not important the really character of the product, but only the money and the client not rappresented the important actor in this process.\n",
      "Every day any people buy same products that is not rappresented the your necessity, but is only important buy any product.\n",
      "To explain this argoment in my nation, at the television, there is an program that discuss of the problem rappresented by this.\n",
      "More people go to this program television to talk about your problem, that is very radicate in my nation.\n",
      "The modern society rappresented the perfect ambient to influenced the minds of all the person.\n",
      "In my self is present the reasons of this statement, that is one of the problem of the life.\n",
      "But not all the people and the time is in accord with this problem, because any time the person is too according with the make products.\n",
      "Thus I agree with this statement, because this event is present in my life every day, and rappresented the problem with I do fighting.\n",
      "But to explain all the aspect about this argoment is very inportant to illustre any examples.\n",
      "The television programs that every day introduce in the minds more argoment, news and other problem, or breaking news, is the first actor in this process.\n",
      "This opinion rappresented my self in my life, because for me the life of all the people is not possible to influence by the activity of any person.\n",
      "The society lose the propriety when this problem will rappresent the must argoment of the talk and the life of the people, because as very difficult live at a time with this argoment.\n",
      "The my request is that the new politics discuss about this problem.\n"
     ]
    }
   ],
   "source": [
    "print(essay_key.loc[0,'essay'])"
   ]
  },
  {
   "cell_type": "code",
   "execution_count": 6,
   "metadata": {},
   "outputs": [],
   "source": [
    "essay_tags = pos_tags(pos_tagger, essay_key.loc[0,'essay'])"
   ]
  },
  {
   "cell_type": "code",
   "execution_count": 7,
   "metadata": {},
   "outputs": [],
   "source": [
    "trees = constituency_parse(parser, essay_key.loc[0,'essay'])"
   ]
  },
  {
   "cell_type": "code",
   "execution_count": 8,
   "metadata": {},
   "outputs": [],
   "source": [
    "def tree_to_str(trees):\n",
    "    \"\"\"Joins a list of trees in string form\"\"\"\n",
    "    return ' '.join(trees)\n",
    "\n",
    "def str_to_trees(tree_str):\n",
    "    \"\"\"Splits a string into a list of trees in string form\"\"\"\n",
    "    d = \"(ROOT\"\n",
    "    return  [(d+e).strip() for e in tree_str.split(d) if e]"
   ]
  },
  {
   "cell_type": "code",
   "execution_count": 9,
   "metadata": {},
   "outputs": [
    {
     "name": "stdout",
     "output_type": "stream",
     "text": [
      "['(ROOT (S (NP (DT This)) (VP (VBZ is) (NP (NP (DT an) (JJ important) (NN aspect)) (PP (IN of) (NP (NN today) (NN time))))) (. .)))', '(ROOT (S (S (NP (DT This) (NNS products) (NN rathen)) (VP (VBP are) (RB not) (ADVP (RB much) (JJR better)))) (, ,) (CC but) (S (S (NP (NN today)) (VP (VBZ is) (RB not) (NP (NP (JJ important) (DT the) (RB really) (NN character)) (PP (IN of) (NP (DT the) (NN product)))))) (, ,) (CC but) (S (NP (NP (RB only) (DT the) (NN money)) (CC and) (NP (DT the) (NN client))) (ADVP (RB not)) (VP (VBD rappresented) (NP (DT the) (JJ important) (NN actor)) (PP (IN in) (NP (DT this) (NN process)))))) (. .)))', '(ROOT (S (NP (NP (DT Every) (NN day)) (SBAR (S (NP (DT any) (NNS people)) (VP (VBP buy) (NP (NP (JJ same) (NNS products)) (SBAR (WHNP (WDT that)) (S (VP (VBZ is) (RB not) (VP (VBN rappresented) (NP (DT the) (PRP$ your) (NN necessity))))))))))) (, ,) (CC but) (VP (VBZ is) (ADVP (RB only) (JJ important)) (VP (VB buy) (NP (DT any) (NN product)))) (. .)))', '(ROOT (S (S (VP (TO To) (VP (VB explain) (NP (NP (DT this) (NN argoment)) (PP (IN in) (NP (PRP$ my) (NN nation)))) (, ,) (PP (IN at) (NP (DT the) (NN television)))))) (, ,) (S (NP (EX there)) (VP (VBZ is) (NP (NP (DT an) (NN program)) (SBAR (WHNP (WDT that)) (S (VP (VBP discuss) (PP (IN of) (NP (NP (DT the) (NN problem)) (VP (VBN rappresented) (PP (IN by) (NP (DT this)))))))))))) (. .)))', '(ROOT (S (S (NP (JJR More) (NNS people)) (VP (VBP go) (PP (TO to) (NP (DT this) (NN program) (NN television))) (S (VP (TO to) (VP (VB talk) (PP (IN about) (NP (PRP$ your) (NN problem)))))))) (, ,) (S (NP (WDT that)) (VP (VBZ is) (ADJP (RB very) (JJ radicate)) (PP (IN in) (NP (PRP$ my) (NN nation))))) (. .)))', '(ROOT (S (NP (DT The) (JJ modern) (NN society)) (VP (VBD rappresented) (NP (DT the) (JJ perfect) (JJ ambient)) (S (VP (TO to) (VP (VBN influenced) (NP (NP (DT the) (NNS minds)) (PP (IN of) (NP (PDT all) (DT the) (NN person)))))))) (. .)))', '(ROOT (S (SINV (PP (IN In) (NP (PRP$ my) (NN self))) (VP (VBZ is)) (ADJP (JJ present)) (NP (NP (DT the) (NNS reasons)) (PP (IN of) (NP (DT this) (NN statement))))) (, ,) (S (NP (WDT that)) (VP (VBZ is) (NP (NP (CD one)) (PP (IN of) (NP (NP (DT the) (NN problem)) (PP (IN of) (NP (DT the) (NN life)))))))) (. .)))', '(ROOT (FRAG (CC But) (RB not) (NP (NP (DT all) (DT the) (NNS people)) (CC and) (SBAR (S (NP (DT the) (NN time)) (VP (VBZ is) (PP (IN in) (NP (NP (NN accord)) (PP (IN with) (NP (DT this) (NN problem))))) (, ,) (SBAR (IN because) (NP (NP (DT any) (NN time)) (SBAR (S (NP (DT the) (NN person)) (VP (VBZ is) (ADJP (RB too) (PP (VBG according) (PP (IN with) (NP (DT the) (NN make) (NNS products)))))))))))))) (. .)))', '(ROOT (S (ADVP (RB Thus)) (NP (PRP I)) (VP (VP (VBP agree) (PP (IN with) (NP (DT this) (NN statement))) (, ,) (SBAR (IN because) (S (NP (DT this) (NN event)) (VP (VBZ is) (ADJP (JJ present) (PP (IN in) (NP (PRP$ my) (NN life)))) (NP (DT every) (NN day)))))) (, ,) (CC and) (VP (VBD rappresented) (NP (NP (DT the) (NN problem)) (SBAR (IN with) (S (NP (PRP I)) (VP (VBP do) (VP (VBG fighting)))))))) (. .)))', '(ROOT (FRAG (CC But) (S (VP (TO to) (VP (VB explain) (SBAR (S (NP (NP (PDT all) (DT the) (NN aspect)) (PP (IN about) (NP (DT this) (NN argoment)))) (VP (VBZ is) (ADJP (RB very) (JJ inportant) (S (VP (TO to) (VP (VB illustre) (NP (DT any) (NNS examples)))))))))))) (. .)))', '(ROOT (S (NP (DT The) (NN television) (NNS programs)) (SBAR (WHNP (WDT that)) (S (NP (DT every) (NN day)) (VP (VB introduce) (PP (IN in) (NP (DT the) (NNS minds))) (ADVP (RBR more) (NN argoment))))) (, ,) (NP (NP (NP (NN news)) (CC and) (NP (JJ other) (NN problem))) (, ,) (CC or) (VP (VBG breaking) (NP (NN news))) (, ,)) (VP (VBZ is) (NP (NP (DT the) (JJ first) (NN actor)) (PP (IN in) (NP (DT this) (NN process))))) (. .)))', '(ROOT (S (NP (DT This) (NN opinion)) (VP (VBD rappresented) (NP (PRP$ my) (NN self)) (PP (IN in) (NP (PRP$ my) (NN life))) (, ,) (PP (IN because) (IN for) (NP (NP (PRP me)) (SBAR (S (NP (NP (DT the) (NN life)) (PP (IN of) (NP (PDT all) (DT the) (NNS people)))) (VP (VBZ is) (RB not) (ADJP (JJ possible) (S (VP (TO to) (VP (VB influence) (PP (IN by) (NP (NP (DT the) (NN activity)) (PP (IN of) (NP (DT any) (NN person))))))))))))))) (. .)))', '(ROOT (S (NP (DT The) (NN society)) (VP (VBP lose) (NP (DT the) (NN propriety)) (SBAR (WHADVP (WRB when)) (S (NP (DT this) (NN problem)) (VP (MD will) (VP (VB rappresent) (SBAR (S (DT the) (VP (MD must) (VP (VP (VB argoment) (PP (IN of) (NP (NP (DT the) (NN talk)) (CC and) (NP (NP (DT the) (NN life)) (PP (IN of) (NP (DT the) (NNS people))))))) (, ,) (SBAR (IN because) (SBAR (IN as) (S (ADJP (RB very) (JJ difficult)) (ADJP (JJ live) (PP (IN at) (NP (NP (DT a) (NN time)) (PP (IN with) (NP (DT this) (NN argoment)))))))))))))))))) (. .)))', '(ROOT (S (NP (DT The) (PRP$ my) (NN request)) (VP (VBZ is) (SBAR (IN that) (S (NP (DT the) (JJ new) (NNS politics)) (VP (VBP discuss) (PP (IN about) (NP (DT this) (NN problem))))))) (. .)))']\n",
      "\n",
      "14\n"
     ]
    }
   ],
   "source": [
    "print(trees)\n",
    "print()\n",
    "print(len(trees))"
   ]
  },
  {
   "cell_type": "code",
   "execution_count": 10,
   "metadata": {},
   "outputs": [
    {
     "name": "stdout",
     "output_type": "stream",
     "text": [
      "(ROOT (S (NP (DT This)) (VP (VBZ is) (NP (NP (DT an) (JJ important) (NN aspect)) (PP (IN of) (NP (NN today) (NN time))))) (. .))) (ROOT (S (S (NP (DT This) (NNS products) (NN rathen)) (VP (VBP are) (RB not) (ADVP (RB much) (JJR better)))) (, ,) (CC but) (S (S (NP (NN today)) (VP (VBZ is) (RB not) (NP (NP (JJ important) (DT the) (RB really) (NN character)) (PP (IN of) (NP (DT the) (NN product)))))) (, ,) (CC but) (S (NP (NP (RB only) (DT the) (NN money)) (CC and) (NP (DT the) (NN client))) (ADVP (RB not)) (VP (VBD rappresented) (NP (DT the) (JJ important) (NN actor)) (PP (IN in) (NP (DT this) (NN process)))))) (. .))) (ROOT (S (NP (NP (DT Every) (NN day)) (SBAR (S (NP (DT any) (NNS people)) (VP (VBP buy) (NP (NP (JJ same) (NNS products)) (SBAR (WHNP (WDT that)) (S (VP (VBZ is) (RB not) (VP (VBN rappresented) (NP (DT the) (PRP$ your) (NN necessity))))))))))) (, ,) (CC but) (VP (VBZ is) (ADVP (RB only) (JJ important)) (VP (VB buy) (NP (DT any) (NN product)))) (. .))) (ROOT (S (S (VP (TO To) (VP (VB explain) (NP (NP (DT this) (NN argoment)) (PP (IN in) (NP (PRP$ my) (NN nation)))) (, ,) (PP (IN at) (NP (DT the) (NN television)))))) (, ,) (S (NP (EX there)) (VP (VBZ is) (NP (NP (DT an) (NN program)) (SBAR (WHNP (WDT that)) (S (VP (VBP discuss) (PP (IN of) (NP (NP (DT the) (NN problem)) (VP (VBN rappresented) (PP (IN by) (NP (DT this)))))))))))) (. .))) (ROOT (S (S (NP (JJR More) (NNS people)) (VP (VBP go) (PP (TO to) (NP (DT this) (NN program) (NN television))) (S (VP (TO to) (VP (VB talk) (PP (IN about) (NP (PRP$ your) (NN problem)))))))) (, ,) (S (NP (WDT that)) (VP (VBZ is) (ADJP (RB very) (JJ radicate)) (PP (IN in) (NP (PRP$ my) (NN nation))))) (. .))) (ROOT (S (NP (DT The) (JJ modern) (NN society)) (VP (VBD rappresented) (NP (DT the) (JJ perfect) (JJ ambient)) (S (VP (TO to) (VP (VBN influenced) (NP (NP (DT the) (NNS minds)) (PP (IN of) (NP (PDT all) (DT the) (NN person)))))))) (. .))) (ROOT (S (SINV (PP (IN In) (NP (PRP$ my) (NN self))) (VP (VBZ is)) (ADJP (JJ present)) (NP (NP (DT the) (NNS reasons)) (PP (IN of) (NP (DT this) (NN statement))))) (, ,) (S (NP (WDT that)) (VP (VBZ is) (NP (NP (CD one)) (PP (IN of) (NP (NP (DT the) (NN problem)) (PP (IN of) (NP (DT the) (NN life)))))))) (. .))) (ROOT (FRAG (CC But) (RB not) (NP (NP (DT all) (DT the) (NNS people)) (CC and) (SBAR (S (NP (DT the) (NN time)) (VP (VBZ is) (PP (IN in) (NP (NP (NN accord)) (PP (IN with) (NP (DT this) (NN problem))))) (, ,) (SBAR (IN because) (NP (NP (DT any) (NN time)) (SBAR (S (NP (DT the) (NN person)) (VP (VBZ is) (ADJP (RB too) (PP (VBG according) (PP (IN with) (NP (DT the) (NN make) (NNS products)))))))))))))) (. .))) (ROOT (S (ADVP (RB Thus)) (NP (PRP I)) (VP (VP (VBP agree) (PP (IN with) (NP (DT this) (NN statement))) (, ,) (SBAR (IN because) (S (NP (DT this) (NN event)) (VP (VBZ is) (ADJP (JJ present) (PP (IN in) (NP (PRP$ my) (NN life)))) (NP (DT every) (NN day)))))) (, ,) (CC and) (VP (VBD rappresented) (NP (NP (DT the) (NN problem)) (SBAR (IN with) (S (NP (PRP I)) (VP (VBP do) (VP (VBG fighting)))))))) (. .))) (ROOT (FRAG (CC But) (S (VP (TO to) (VP (VB explain) (SBAR (S (NP (NP (PDT all) (DT the) (NN aspect)) (PP (IN about) (NP (DT this) (NN argoment)))) (VP (VBZ is) (ADJP (RB very) (JJ inportant) (S (VP (TO to) (VP (VB illustre) (NP (DT any) (NNS examples)))))))))))) (. .))) (ROOT (S (NP (DT The) (NN television) (NNS programs)) (SBAR (WHNP (WDT that)) (S (NP (DT every) (NN day)) (VP (VB introduce) (PP (IN in) (NP (DT the) (NNS minds))) (ADVP (RBR more) (NN argoment))))) (, ,) (NP (NP (NP (NN news)) (CC and) (NP (JJ other) (NN problem))) (, ,) (CC or) (VP (VBG breaking) (NP (NN news))) (, ,)) (VP (VBZ is) (NP (NP (DT the) (JJ first) (NN actor)) (PP (IN in) (NP (DT this) (NN process))))) (. .))) (ROOT (S (NP (DT This) (NN opinion)) (VP (VBD rappresented) (NP (PRP$ my) (NN self)) (PP (IN in) (NP (PRP$ my) (NN life))) (, ,) (PP (IN because) (IN for) (NP (NP (PRP me)) (SBAR (S (NP (NP (DT the) (NN life)) (PP (IN of) (NP (PDT all) (DT the) (NNS people)))) (VP (VBZ is) (RB not) (ADJP (JJ possible) (S (VP (TO to) (VP (VB influence) (PP (IN by) (NP (NP (DT the) (NN activity)) (PP (IN of) (NP (DT any) (NN person))))))))))))))) (. .))) (ROOT (S (NP (DT The) (NN society)) (VP (VBP lose) (NP (DT the) (NN propriety)) (SBAR (WHADVP (WRB when)) (S (NP (DT this) (NN problem)) (VP (MD will) (VP (VB rappresent) (SBAR (S (DT the) (VP (MD must) (VP (VP (VB argoment) (PP (IN of) (NP (NP (DT the) (NN talk)) (CC and) (NP (NP (DT the) (NN life)) (PP (IN of) (NP (DT the) (NNS people))))))) (, ,) (SBAR (IN because) (SBAR (IN as) (S (ADJP (RB very) (JJ difficult)) (ADJP (JJ live) (PP (IN at) (NP (NP (DT a) (NN time)) (PP (IN with) (NP (DT this) (NN argoment)))))))))))))))))) (. .))) (ROOT (S (NP (DT The) (PRP$ my) (NN request)) (VP (VBZ is) (SBAR (IN that) (S (NP (DT the) (JJ new) (NNS politics)) (VP (VBP discuss) (PP (IN about) (NP (DT this) (NN problem))))))) (. .)))\n"
     ]
    }
   ],
   "source": [
    "trees_str = tree_to_str(trees)\n",
    "print(trees_str)"
   ]
  },
  {
   "cell_type": "code",
   "execution_count": 11,
   "metadata": {},
   "outputs": [
    {
     "name": "stdout",
     "output_type": "stream",
     "text": [
      "['(ROOT (S (NP (DT This)) (VP (VBZ is) (NP (NP (DT an) (JJ important) (NN aspect)) (PP (IN of) (NP (NN today) (NN time))))) (. .)))', '(ROOT (S (S (NP (DT This) (NNS products) (NN rathen)) (VP (VBP are) (RB not) (ADVP (RB much) (JJR better)))) (, ,) (CC but) (S (S (NP (NN today)) (VP (VBZ is) (RB not) (NP (NP (JJ important) (DT the) (RB really) (NN character)) (PP (IN of) (NP (DT the) (NN product)))))) (, ,) (CC but) (S (NP (NP (RB only) (DT the) (NN money)) (CC and) (NP (DT the) (NN client))) (ADVP (RB not)) (VP (VBD rappresented) (NP (DT the) (JJ important) (NN actor)) (PP (IN in) (NP (DT this) (NN process)))))) (. .)))', '(ROOT (S (NP (NP (DT Every) (NN day)) (SBAR (S (NP (DT any) (NNS people)) (VP (VBP buy) (NP (NP (JJ same) (NNS products)) (SBAR (WHNP (WDT that)) (S (VP (VBZ is) (RB not) (VP (VBN rappresented) (NP (DT the) (PRP$ your) (NN necessity))))))))))) (, ,) (CC but) (VP (VBZ is) (ADVP (RB only) (JJ important)) (VP (VB buy) (NP (DT any) (NN product)))) (. .)))', '(ROOT (S (S (VP (TO To) (VP (VB explain) (NP (NP (DT this) (NN argoment)) (PP (IN in) (NP (PRP$ my) (NN nation)))) (, ,) (PP (IN at) (NP (DT the) (NN television)))))) (, ,) (S (NP (EX there)) (VP (VBZ is) (NP (NP (DT an) (NN program)) (SBAR (WHNP (WDT that)) (S (VP (VBP discuss) (PP (IN of) (NP (NP (DT the) (NN problem)) (VP (VBN rappresented) (PP (IN by) (NP (DT this)))))))))))) (. .)))', '(ROOT (S (S (NP (JJR More) (NNS people)) (VP (VBP go) (PP (TO to) (NP (DT this) (NN program) (NN television))) (S (VP (TO to) (VP (VB talk) (PP (IN about) (NP (PRP$ your) (NN problem)))))))) (, ,) (S (NP (WDT that)) (VP (VBZ is) (ADJP (RB very) (JJ radicate)) (PP (IN in) (NP (PRP$ my) (NN nation))))) (. .)))', '(ROOT (S (NP (DT The) (JJ modern) (NN society)) (VP (VBD rappresented) (NP (DT the) (JJ perfect) (JJ ambient)) (S (VP (TO to) (VP (VBN influenced) (NP (NP (DT the) (NNS minds)) (PP (IN of) (NP (PDT all) (DT the) (NN person)))))))) (. .)))', '(ROOT (S (SINV (PP (IN In) (NP (PRP$ my) (NN self))) (VP (VBZ is)) (ADJP (JJ present)) (NP (NP (DT the) (NNS reasons)) (PP (IN of) (NP (DT this) (NN statement))))) (, ,) (S (NP (WDT that)) (VP (VBZ is) (NP (NP (CD one)) (PP (IN of) (NP (NP (DT the) (NN problem)) (PP (IN of) (NP (DT the) (NN life)))))))) (. .)))', '(ROOT (FRAG (CC But) (RB not) (NP (NP (DT all) (DT the) (NNS people)) (CC and) (SBAR (S (NP (DT the) (NN time)) (VP (VBZ is) (PP (IN in) (NP (NP (NN accord)) (PP (IN with) (NP (DT this) (NN problem))))) (, ,) (SBAR (IN because) (NP (NP (DT any) (NN time)) (SBAR (S (NP (DT the) (NN person)) (VP (VBZ is) (ADJP (RB too) (PP (VBG according) (PP (IN with) (NP (DT the) (NN make) (NNS products)))))))))))))) (. .)))', '(ROOT (S (ADVP (RB Thus)) (NP (PRP I)) (VP (VP (VBP agree) (PP (IN with) (NP (DT this) (NN statement))) (, ,) (SBAR (IN because) (S (NP (DT this) (NN event)) (VP (VBZ is) (ADJP (JJ present) (PP (IN in) (NP (PRP$ my) (NN life)))) (NP (DT every) (NN day)))))) (, ,) (CC and) (VP (VBD rappresented) (NP (NP (DT the) (NN problem)) (SBAR (IN with) (S (NP (PRP I)) (VP (VBP do) (VP (VBG fighting)))))))) (. .)))', '(ROOT (FRAG (CC But) (S (VP (TO to) (VP (VB explain) (SBAR (S (NP (NP (PDT all) (DT the) (NN aspect)) (PP (IN about) (NP (DT this) (NN argoment)))) (VP (VBZ is) (ADJP (RB very) (JJ inportant) (S (VP (TO to) (VP (VB illustre) (NP (DT any) (NNS examples)))))))))))) (. .)))', '(ROOT (S (NP (DT The) (NN television) (NNS programs)) (SBAR (WHNP (WDT that)) (S (NP (DT every) (NN day)) (VP (VB introduce) (PP (IN in) (NP (DT the) (NNS minds))) (ADVP (RBR more) (NN argoment))))) (, ,) (NP (NP (NP (NN news)) (CC and) (NP (JJ other) (NN problem))) (, ,) (CC or) (VP (VBG breaking) (NP (NN news))) (, ,)) (VP (VBZ is) (NP (NP (DT the) (JJ first) (NN actor)) (PP (IN in) (NP (DT this) (NN process))))) (. .)))', '(ROOT (S (NP (DT This) (NN opinion)) (VP (VBD rappresented) (NP (PRP$ my) (NN self)) (PP (IN in) (NP (PRP$ my) (NN life))) (, ,) (PP (IN because) (IN for) (NP (NP (PRP me)) (SBAR (S (NP (NP (DT the) (NN life)) (PP (IN of) (NP (PDT all) (DT the) (NNS people)))) (VP (VBZ is) (RB not) (ADJP (JJ possible) (S (VP (TO to) (VP (VB influence) (PP (IN by) (NP (NP (DT the) (NN activity)) (PP (IN of) (NP (DT any) (NN person))))))))))))))) (. .)))', '(ROOT (S (NP (DT The) (NN society)) (VP (VBP lose) (NP (DT the) (NN propriety)) (SBAR (WHADVP (WRB when)) (S (NP (DT this) (NN problem)) (VP (MD will) (VP (VB rappresent) (SBAR (S (DT the) (VP (MD must) (VP (VP (VB argoment) (PP (IN of) (NP (NP (DT the) (NN talk)) (CC and) (NP (NP (DT the) (NN life)) (PP (IN of) (NP (DT the) (NNS people))))))) (, ,) (SBAR (IN because) (SBAR (IN as) (S (ADJP (RB very) (JJ difficult)) (ADJP (JJ live) (PP (IN at) (NP (NP (DT a) (NN time)) (PP (IN with) (NP (DT this) (NN argoment)))))))))))))))))) (. .)))', '(ROOT (S (NP (DT The) (PRP$ my) (NN request)) (VP (VBZ is) (SBAR (IN that) (S (NP (DT the) (JJ new) (NNS politics)) (VP (VBP discuss) (PP (IN about) (NP (DT this) (NN problem))))))) (. .)))']\n",
      "\n",
      "14\n"
     ]
    }
   ],
   "source": [
    "trees = str_to_trees(trees_str)\n",
    "print(trees)\n",
    "print()\n",
    "print(len(trees))"
   ]
  },
  {
   "cell_type": "code",
   "execution_count": 12,
   "metadata": {},
   "outputs": [
    {
     "name": "stdout",
     "output_type": "stream",
     "text": [
      "(ROOT\n",
      "  (S\n",
      "    (NP (DT This))\n",
      "    (VP\n",
      "      (VBZ is)\n",
      "      (NP\n",
      "        (NP (DT an) (JJ important) (NN aspect))\n",
      "        (PP (IN of) (NP (NN today) (NN time)))))\n",
      "    (. .)))\n"
     ]
    }
   ],
   "source": [
    "tree = Tree.fromstring(trees[0])\n",
    "print(tree)"
   ]
  },
  {
   "cell_type": "code",
   "execution_count": 15,
   "metadata": {},
   "outputs": [],
   "source": [
    "def get_productions(tree):\n",
    "    \"\"\"Get productions from an NLTK Tree object.  \n",
    "    return a list of production rule strings.\"\"\"\n",
    "    rules = list()\n",
    "\n",
    "    for rule in tree.productions():\n",
    "        if not rule.is_lexical() and 'ROOT' not in rule.unicode_repr():\n",
    "            rules.append(rule.unicode_repr())\n",
    "\n",
    "    return rules"
   ]
  },
  {
   "cell_type": "code",
   "execution_count": 16,
   "metadata": {},
   "outputs": [
    {
     "data": {
      "text/plain": [
       "['S -> NP VP .',\n",
       " 'NP -> DT',\n",
       " 'VP -> VBZ NP',\n",
       " 'NP -> NP PP',\n",
       " 'NP -> DT JJ NN',\n",
       " 'PP -> IN NP',\n",
       " 'NP -> NN NN']"
      ]
     },
     "execution_count": 16,
     "metadata": {},
     "output_type": "execute_result"
    }
   ],
   "source": [
    "get_productions(tree)"
   ]
  }
 ],
 "metadata": {
  "kernelspec": {
   "display_name": "Python [conda env:toefl]",
   "language": "python",
   "name": "conda-env-toefl-py"
  },
  "language_info": {
   "codemirror_mode": {
    "name": "ipython",
    "version": 3
   },
   "file_extension": ".py",
   "mimetype": "text/x-python",
   "name": "python",
   "nbconvert_exporter": "python",
   "pygments_lexer": "ipython3",
   "version": "3.5.5"
  }
 },
 "nbformat": 4,
 "nbformat_minor": 2
}
